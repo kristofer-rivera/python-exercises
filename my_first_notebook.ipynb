{
 "cells": [
  {
   "cell_type": "code",
   "execution_count": 1,
   "id": "fff0ad4b",
   "metadata": {},
   "outputs": [
    {
     "data": {
      "text/plain": [
       "35"
      ]
     },
     "execution_count": 1,
     "metadata": {},
     "output_type": "execute_result"
    }
   ],
   "source": [
    "5 * 7"
   ]
  },
  {
   "cell_type": "code",
   "execution_count": 2,
   "id": "cd66d43e",
   "metadata": {},
   "outputs": [
    {
     "name": "stdout",
     "output_type": "stream",
     "text": [
      "This is my first jupyter notebook.\n"
     ]
    }
   ],
   "source": [
    "print(\"This is my first jupyter notebook.\")"
   ]
  },
  {
   "cell_type": "markdown",
   "id": "686f8a98",
   "metadata": {},
   "source": [
    "This is a markdown. "
   ]
  },
  {
   "cell_type": "code",
   "execution_count": 3,
   "id": "b1f391cd",
   "metadata": {},
   "outputs": [
    {
     "data": {
      "text/plain": [
       "60"
      ]
     },
     "execution_count": 3,
     "metadata": {},
     "output_type": "execute_result"
    }
   ],
   "source": [
    "x = 12\n",
    "5 * x"
   ]
  },
  {
   "cell_type": "markdown",
   "id": "2c0d6191",
   "metadata": {},
   "source": [
    "Shift + Enter executes the current code and selects the cell below. \n",
    "CTRL + Enter simply executes the current code. \n",
    "CTRL + S Saves and creates a checkpoint. (Command + S on MAC)"
   ]
  },
  {
   "cell_type": "code",
   "execution_count": 1,
   "id": "01faffa1",
   "metadata": {},
   "outputs": [
    {
     "data": {
      "text/plain": [
       "24.0"
      ]
     },
     "execution_count": 1,
     "metadata": {},
     "output_type": "execute_result"
    }
   ],
   "source": [
    "(60 * 2)/5"
   ]
  }
 ],
 "metadata": {
  "kernelspec": {
   "display_name": "Python 3 (ipykernel)",
   "language": "python",
   "name": "python3"
  },
  "language_info": {
   "codemirror_mode": {
    "name": "ipython",
    "version": 3
   },
   "file_extension": ".py",
   "mimetype": "text/x-python",
   "name": "python",
   "nbconvert_exporter": "python",
   "pygments_lexer": "ipython3",
   "version": "3.9.7"
  }
 },
 "nbformat": 4,
 "nbformat_minor": 5
}
